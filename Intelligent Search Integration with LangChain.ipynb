{
 "cells": [
  {
   "cell_type": "code",
   "execution_count": 1,
   "id": "06e45e33-6cf5-4f8a-a042-7d174396610b",
   "metadata": {},
   "outputs": [],
   "source": [
    "from dotenv import load_dotenv, find_dotenv\n",
    "_ = load_dotenv(find_dotenv())"
   ]
  },
  {
   "cell_type": "code",
   "execution_count": 2,
   "id": "549f8590-b1cf-442d-af08-ac2eefeb221b",
   "metadata": {},
   "outputs": [],
   "source": [
    "from langgraph.graph import StateGraph, END\n",
    "from typing import TypedDict, Annotated\n",
    "import operator\n",
    "from langchain_core.messages import AnyMessage, SystemMessage, HumanMessage, ToolMessage\n",
    "from langchain_openai import ChatOpenAI\n",
    "from langchain_community.tools.tavily_search import TavilySearchResults"
   ]
  },
  {
   "cell_type": "code",
   "execution_count": 3,
   "id": "ba30dc4b-d83a-4aed-95be-feb67a1c4569",
   "metadata": {},
   "outputs": [
    {
     "name": "stdout",
     "output_type": "stream",
     "text": [
      "<class 'langchain_community.tools.tavily_search.tool.TavilySearchResults'>\n",
      "tavily_search_results_json\n"
     ]
    }
   ],
   "source": [
    "tool = TavilySearchResults(max_results = 2)\n",
    "print(type(tool))\n",
    "print(tool.name)"
   ]
  },
  {
   "cell_type": "code",
   "execution_count": 4,
   "id": "b0cda504-df29-4eb3-bd17-e659c64e6052",
   "metadata": {},
   "outputs": [],
   "source": [
    "class AgentState(TypedDict):\n",
    "    messages: Annotated[list[AnyMessage], operator.add]\n",
    "\n",
    "class Agent:\n",
    "    def __init__(self, model, tools, system = \"\"):\n",
    "        self.system = system\n",
    "        graph = StateGraph(AgentState)\n",
    "        graph.add_node(\"LLM\", self.call_openai)\n",
    "        graph.add_node(\"Action\", self.take_action)\n",
    "        graph.add_conditional_edges(\n",
    "            \"LLM\", \n",
    "            self.exists_action,\n",
    "            {True: \"Action\", False: END}\n",
    "        )\n",
    "        graph.add_edge(\"Action\", \"LLM\") \n",
    "        graph.set_entry_point(\"LLM\") \n",
    "        self.graph = graph.compile() \n",
    "        self.tools = {t.name: t for t in tools}\n",
    "        self.model = model.bind_tools(tools)\n",
    "\n",
    "    def call_openai(self, state: AgentState):\n",
    "        messages = state['messages'] \n",
    "        if self.system:   \n",
    "            messages = [SystemMessage(content = self.system)] + messages  #prepend to list of messages\n",
    "        message = self.model.invoke(messages)  \n",
    "        return {'messages': [message]} \n",
    "\n",
    "    def take_action(self, state: AgentState):\n",
    "        tool_calls = state['messages'][-1].tool_calls\n",
    "        results = []\n",
    "        for t in tool_calls:\n",
    "            print(f\"Calling: {t}\")\n",
    "            if not t['name'] in self.tools:\n",
    "                print(\"\\n...Bad tool name...\")\n",
    "                result = \"Bad tool name, retry\"\n",
    "            else:\n",
    "                result = self.tools[t['name']].invoke(t['args'])\n",
    "            results.append(ToolMessage(tool_call_id = t['id'], name = t['name'], content = str(result)))\n",
    "        print(\"back to the model!\")\n",
    "        return {'messages': results}\n",
    "\n",
    "    #define conditonal edge\n",
    "    def exists_action(self, state: AgentState):\n",
    "        #take the last message\n",
    "        result = state['messages'][-1]\n",
    "        return len(result.tool_calls) > 0"
   ]
  },
  {
   "cell_type": "code",
   "execution_count": 5,
   "id": "a35e9762-ef59-416f-ad4d-aec1d1c89a27",
   "metadata": {},
   "outputs": [],
   "source": [
    "prompt = \"\"\"You are a smart research assistant. Use the search engine to look up information. \\\n",
    "You are allowed to make multiple calls (either together or in sequence). \\\n",
    "Only look up information when you are sure of what you want. \\\n",
    "If you need to look up some information before asking a follow up question, you are allowed to do that!\n",
    "\"\"\"\n",
    "\n",
    "model = ChatOpenAI(model=\"gpt-3.5-turbo\")  \n",
    "abot = Agent(model, [tool], system=prompt)  "
   ]
  },
  {
   "cell_type": "code",
   "execution_count": 6,
   "id": "e8284860-5f36-4654-bc42-606a7c9f5a39",
   "metadata": {},
   "outputs": [
    {
     "name": "stdout",
     "output_type": "stream",
     "text": [
      "Calling: {'name': 'tavily_search_results_json', 'args': {'query': 'weather in San Francisco'}, 'id': 'call_0KREg4Y6KNgtUOElRHCjHTO6', 'type': 'tool_call'}\n",
      "back to the model!\n"
     ]
    }
   ],
   "source": [
    "messages = [HumanMessage(content = \"What is the weather in sf?\")] \n",
    "result = abot.graph.invoke({\"messages\": messages}) "
   ]
  },
  {
   "cell_type": "code",
   "execution_count": 7,
   "id": "c2969bf2-bd94-4588-a9ed-27cd04896c88",
   "metadata": {},
   "outputs": [
    {
     "data": {
      "text/plain": [
       "{'messages': [HumanMessage(content='What is the weather in sf?'),\n",
       "  AIMessage(content='', additional_kwargs={'tool_calls': [{'id': 'call_0KREg4Y6KNgtUOElRHCjHTO6', 'function': {'arguments': '{\"query\":\"weather in San Francisco\"}', 'name': 'tavily_search_results_json'}, 'type': 'function'}]}, response_metadata={'token_usage': {'completion_tokens': 21, 'prompt_tokens': 153, 'total_tokens': 174}, 'model_name': 'gpt-3.5-turbo-0125', 'system_fingerprint': None, 'finish_reason': 'tool_calls', 'logprobs': None}, id='run-a2f5d45a-caa8-45ca-847a-482328fb5da3-0', tool_calls=[{'name': 'tavily_search_results_json', 'args': {'query': 'weather in San Francisco'}, 'id': 'call_0KREg4Y6KNgtUOElRHCjHTO6', 'type': 'tool_call'}], usage_metadata={'input_tokens': 153, 'output_tokens': 21, 'total_tokens': 174}),\n",
       "  ToolMessage(content='[{\\'url\\': \\'https://www.weatherapi.com/\\', \\'content\\': \"{\\'location\\': {\\'name\\': \\'San Francisco\\', \\'region\\': \\'California\\', \\'country\\': \\'United States of America\\', \\'lat\\': 37.78, \\'lon\\': -122.42, \\'tz_id\\': \\'America/Los_Angeles\\', \\'localtime_epoch\\': 1723562529, \\'localtime\\': \\'2024-08-13 08:22\\'}, \\'current\\': {\\'last_updated_epoch\\': 1723562100, \\'last_updated\\': \\'2024-08-13 08:15\\', \\'temp_c\\': 13.5, \\'temp_f\\': 56.3, \\'is_day\\': 1, \\'condition\\': {\\'text\\': \\'Sunny\\', \\'icon\\': \\'//cdn.weatherapi.com/weather/64x64/day/113.png\\', \\'code\\': 1000}, \\'wind_mph\\': 6.5, \\'wind_kph\\': 10.4, \\'wind_degree\\': 221, \\'wind_dir\\': \\'SW\\', \\'pressure_mb\\': 1016.0, \\'pressure_in\\': 29.99, \\'precip_mm\\': 0.0, \\'precip_in\\': 0.0, \\'humidity\\': 84, \\'cloud\\': 19, \\'feelslike_c\\': 12.8, \\'feelslike_f\\': 55.1, \\'windchill_c\\': 12.8, \\'windchill_f\\': 55.1, \\'heatindex_c\\': 13.5, \\'heatindex_f\\': 56.3, \\'dewpoint_c\\': 10.7, \\'dewpoint_f\\': 51.2, \\'vis_km\\': 10.0, \\'vis_miles\\': 6.0, \\'uv\\': 4.0, \\'gust_mph\\': 8.8, \\'gust_kph\\': 14.1}}\"}, {\\'url\\': \\'https://www.timeanddate.com/weather/@z-us-94116/ext\\', \\'content\\': \\'13 mph: ↑: 69%: 5%-7 (High) 6:09 am: 8:22 pm: Sun Jul 28: 69 / 57 °F: Tstorms early. Morning clouds. 69 °F: 15 mph: ↑: 78%: 52%: 0.02\" 5 (Moderate) 6:10 am: 8:21 pm: Mon Jul 29: 70 / 57 °F: Morning clouds. 69 °F: 12 mph: ↑: 72%: 5%-7 (High) 6:11 am: 8:20 pm * Updated Monday, July 15, 2024 2:24:08 pm San Francisco time - Weather by ...\\'}]', name='tavily_search_results_json', tool_call_id='call_0KREg4Y6KNgtUOElRHCjHTO6'),\n",
       "  AIMessage(content='The current weather in San Francisco is sunny with a temperature of 56.3°F (13.5°C). The wind speed is 10.4 km/h coming from the southwest direction. The humidity is at 84%, and the visibility is 6.0 miles.', response_metadata={'token_usage': {'completion_tokens': 57, 'prompt_tokens': 783, 'total_tokens': 840}, 'model_name': 'gpt-3.5-turbo-0125', 'system_fingerprint': None, 'finish_reason': 'stop', 'logprobs': None}, id='run-39a3d9bb-7f8d-4ea8-a702-1cb8ed442e1c-0', usage_metadata={'input_tokens': 783, 'output_tokens': 57, 'total_tokens': 840})]}"
      ]
     },
     "execution_count": 7,
     "metadata": {},
     "output_type": "execute_result"
    }
   ],
   "source": [
    "result"
   ]
  },
  {
   "cell_type": "code",
   "execution_count": 8,
   "id": "9cf68974-c0e8-4c0a-a5ff-b07ce845ae09",
   "metadata": {},
   "outputs": [
    {
     "data": {
      "text/plain": [
       "'The current weather in San Francisco is sunny with a temperature of 56.3°F (13.5°C). The wind speed is 10.4 km/h coming from the southwest direction. The humidity is at 84%, and the visibility is 6.0 miles.'"
      ]
     },
     "execution_count": 8,
     "metadata": {},
     "output_type": "execute_result"
    }
   ],
   "source": [
    "result['messages'][-1].content"
   ]
  },
  {
   "cell_type": "markdown",
   "id": "8fccc037-98ed-4a9b-a25d-fec9246f0977",
   "metadata": {},
   "source": [
    "**Two Part Question**"
   ]
  },
  {
   "cell_type": "code",
   "execution_count": 10,
   "id": "14a29ad9-3ac4-4ebd-8ea1-e2968e32eaf3",
   "metadata": {},
   "outputs": [
    {
     "name": "stdout",
     "output_type": "stream",
     "text": [
      "Calling: {'name': 'tavily_search_results_json', 'args': {'query': 'weather in San Francisco'}, 'id': 'call_4XX1WnYbsxARGO73GODjtuWG', 'type': 'tool_call'}\n",
      "Calling: {'name': 'tavily_search_results_json', 'args': {'query': 'weather in Los Angeles'}, 'id': 'call_lbqVwSmLbO6vl3xLDUKt25bK', 'type': 'tool_call'}\n",
      "back to the model!\n"
     ]
    }
   ],
   "source": [
    "messages = [HumanMessage(content = \"What is the weather in SF and LA?\")]\n",
    "result = abot.graph.invoke({\"messages\": messages})"
   ]
  },
  {
   "cell_type": "code",
   "execution_count": 11,
   "id": "86af409b-72cc-4db2-915c-b9e37ac66a06",
   "metadata": {},
   "outputs": [
    {
     "data": {
      "text/plain": [
       "'The current weather in San Francisco is sunny with a temperature of 56.3°F (13.5°C). The wind speed is 10.4 kph coming from the southwest direction. The humidity level is at 84%.\\n\\nIn Los Angeles, the weather is also sunny with a temperature of 75.3°F (24.0°C). The wind speed is 5.4 kph coming from the south-southeast direction. The humidity level is at 57%.'"
      ]
     },
     "execution_count": 11,
     "metadata": {},
     "output_type": "execute_result"
    }
   ],
   "source": [
    "result['messages'][-1].content"
   ]
  },
  {
   "cell_type": "code",
   "execution_count": 12,
   "id": "654aa47c-be21-44e4-845a-0ca86d2226e3",
   "metadata": {},
   "outputs": [
    {
     "name": "stdout",
     "output_type": "stream",
     "text": [
      "Calling: {'name': 'tavily_search_results_json', 'args': {'query': 'Super Bowl winner 2024'}, 'id': 'call_1vHMe5OYlJCxSYWJh73jb8f6', 'type': 'tool_call'}\n",
      "back to the model!\n",
      "Calling: {'name': 'tavily_search_results_json', 'args': {'query': 'GDP of Missouri 2024'}, 'id': 'call_wvKgp3zZzwaDkyiWyNwU8xSV', 'type': 'tool_call'}\n",
      "back to the model!\n"
     ]
    }
   ],
   "source": [
    "query = \"Who won the super bowl in 2024? \\\n",
    "What is the GDP of that state? Answer each question.\" \n",
    "messages = [HumanMessage(content=query)]\n",
    "\n",
    "model = ChatOpenAI(model=\"gpt-4o\")  # requires more advanced model\n",
    "abot = Agent(model, [tool], system=prompt)\n",
    "result = abot.graph.invoke({\"messages\": messages})"
   ]
  },
  {
   "cell_type": "code",
   "execution_count": 13,
   "id": "97fefbaf-2189-4109-b1cb-544ff401b5f7",
   "metadata": {},
   "outputs": [
    {
     "name": "stdout",
     "output_type": "stream",
     "text": [
      "### Super Bowl Winner 2024\n",
      "The Kansas City Chiefs won the Super Bowl in 2024, defeating the San Francisco 49ers in an overtime victory.\n",
      "\n",
      "### GDP of Missouri\n",
      "The real gross domestic product (GDP) of Missouri in 2024 is not directly available, but in 2023, it was approximately $344.12 billion USD. Given the context, it is likely to have seen a modest increase in 2024.\n"
     ]
    }
   ],
   "source": [
    "print(result['messages'][-1].content)"
   ]
  },
  {
   "cell_type": "code",
   "execution_count": null,
   "id": "3efe7087-12c1-46d8-9e72-3a82aafe9480",
   "metadata": {},
   "outputs": [],
   "source": []
  }
 ],
 "metadata": {
  "kernelspec": {
   "display_name": "Python 3 (ipykernel)",
   "language": "python",
   "name": "python3"
  },
  "language_info": {
   "codemirror_mode": {
    "name": "ipython",
    "version": 3
   },
   "file_extension": ".py",
   "mimetype": "text/x-python",
   "name": "python",
   "nbconvert_exporter": "python",
   "pygments_lexer": "ipython3",
   "version": "3.10.8"
  }
 },
 "nbformat": 4,
 "nbformat_minor": 5
}
